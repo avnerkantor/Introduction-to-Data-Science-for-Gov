{
  "nbformat": 4,
  "nbformat_minor": 0,
  "metadata": {
    "kernelspec": {
      "language": "python",
      "display_name": "Python 3",
      "name": "python3"
    },
    "language_info": {
      "name": "python",
      "version": "3.7.9",
      "mimetype": "text/x-python",
      "codemirror_mode": {
        "name": "ipython",
        "version": 3
      },
      "pygments_lexer": "ipython3",
      "nbconvert_exporter": "python",
      "file_extension": ".py"
    },
    "colab": {
      "name": "climate-change-in-publications",
      "provenance": [],
      "collapsed_sections": []
    }
  },
  "cells": [
    {
      "cell_type": "markdown",
      "metadata": {
        "id": "YPuy_oeLogWD"
      },
      "source": [
        "# **Climate Change in American Publications**\n",
        "based on https://www.dataquest.io/blog/tutorial-text-analysis-python-test-hypothesis/"
      ]
    },
    {
      "cell_type": "code",
      "metadata": {
        "trusted": true,
        "id": "AjIolbLSogWI"
      },
      "source": [
        "import pandas as pd\n",
        "\n",
        "articles = pd.read_csv(\"https://raw.githubusercontent.com/avnerkantor/Introduction-to-Data-Science-for-Gov/main/articles_light.csv\")"
      ],
      "execution_count": 1,
      "outputs": []
    },
    {
      "cell_type": "code",
      "metadata": {
        "trusted": true,
        "colab": {
          "base_uri": "https://localhost:8080/"
        },
        "id": "q_0g-EtUogWJ",
        "outputId": "e9e440ee-4355-4e8c-b3f4-5404df682eb6"
      },
      "source": [
        "len(articles)"
      ],
      "execution_count": 2,
      "outputs": [
        {
          "output_type": "execute_result",
          "data": {
            "text/plain": [
              "3750"
            ]
          },
          "metadata": {
            "tags": []
          },
          "execution_count": 2
        }
      ]
    },
    {
      "cell_type": "code",
      "metadata": {
        "trusted": true,
        "colab": {
          "base_uri": "https://localhost:8080/",
          "height": 195
        },
        "id": "1Gv7XKd1ogWK",
        "outputId": "f27a0a63-9e7c-4084-ddbe-ce8f121223da"
      },
      "source": [
        "articles.head()"
      ],
      "execution_count": 3,
      "outputs": [
        {
          "output_type": "execute_result",
          "data": {
            "text/html": [
              "<div>\n",
              "<style scoped>\n",
              "    .dataframe tbody tr th:only-of-type {\n",
              "        vertical-align: middle;\n",
              "    }\n",
              "\n",
              "    .dataframe tbody tr th {\n",
              "        vertical-align: top;\n",
              "    }\n",
              "\n",
              "    .dataframe thead th {\n",
              "        text-align: right;\n",
              "    }\n",
              "</style>\n",
              "<table border=\"1\" class=\"dataframe\">\n",
              "  <thead>\n",
              "    <tr style=\"text-align: right;\">\n",
              "      <th></th>\n",
              "      <th>title</th>\n",
              "      <th>publication</th>\n",
              "      <th>year</th>\n",
              "      <th>content</th>\n",
              "    </tr>\n",
              "  </thead>\n",
              "  <tbody>\n",
              "    <tr>\n",
              "      <th>0</th>\n",
              "      <td>The Strange Friendship of Martin McGuinness an...</td>\n",
              "      <td>Atlantic</td>\n",
              "      <td>2017.0</td>\n",
              "      <td>One was a crusty Protestant firebrand from Ant...</td>\n",
              "    </tr>\n",
              "    <tr>\n",
              "      <th>1</th>\n",
              "      <td>‘What the Russians Did Was Utterly Unprecedented’</td>\n",
              "      <td>Atlantic</td>\n",
              "      <td>2016.0</td>\n",
              "      <td>Well before the White House or U. S. intellige...</td>\n",
              "    </tr>\n",
              "    <tr>\n",
              "      <th>2</th>\n",
              "      <td>The Boss Baby Missed the Memo</td>\n",
              "      <td>Atlantic</td>\n",
              "      <td>2017.0</td>\n",
              "      <td>Storks Is a Kids’ Movie That Is Not for Kids, ...</td>\n",
              "    </tr>\n",
              "    <tr>\n",
              "      <th>3</th>\n",
              "      <td>The Atlantic Daily: Clashing With Patriots</td>\n",
              "      <td>Atlantic</td>\n",
              "      <td>2017.0</td>\n",
              "      <td>Opposing Trump: The Ninth Circuit Court of App...</td>\n",
              "    </tr>\n",
              "    <tr>\n",
              "      <th>4</th>\n",
              "      <td>Where Are All the Principals of Color?</td>\n",
              "      <td>Atlantic</td>\n",
              "      <td>2016.0</td>\n",
              "      <td>, I want to receive updates from partners and ...</td>\n",
              "    </tr>\n",
              "  </tbody>\n",
              "</table>\n",
              "</div>"
            ],
            "text/plain": [
              "                                               title  ...                                            content\n",
              "0  The Strange Friendship of Martin McGuinness an...  ...  One was a crusty Protestant firebrand from Ant...\n",
              "1  ‘What the Russians Did Was Utterly Unprecedented’  ...  Well before the White House or U. S. intellige...\n",
              "2                      The Boss Baby Missed the Memo  ...  Storks Is a Kids’ Movie That Is Not for Kids, ...\n",
              "3         The Atlantic Daily: Clashing With Patriots  ...  Opposing Trump: The Ninth Circuit Court of App...\n",
              "4             Where Are All the Principals of Color?  ...  , I want to receive updates from partners and ...\n",
              "\n",
              "[5 rows x 4 columns]"
            ]
          },
          "metadata": {
            "tags": []
          },
          "execution_count": 3
        }
      ]
    },
    {
      "cell_type": "code",
      "metadata": {
        "trusted": true,
        "colab": {
          "base_uri": "https://localhost:8080/"
        },
        "id": "3m3D4MnjogWK",
        "outputId": "c3560507-45e1-4128-81a9-3cd847670ec7"
      },
      "source": [
        "articles.publication.unique()"
      ],
      "execution_count": 4,
      "outputs": [
        {
          "output_type": "execute_result",
          "data": {
            "text/plain": [
              "array(['Atlantic', 'Breitbart', 'Business Insider', 'Buzzfeed News',\n",
              "       'CNN', 'Fox News', 'Guardian', 'National Review', 'New York Post',\n",
              "       'New York Times', 'NPR', 'Reuters', 'Talking Points Memo', 'Vox',\n",
              "       'Washington Post'], dtype=object)"
            ]
          },
          "metadata": {
            "tags": []
          },
          "execution_count": 4
        }
      ]
    },
    {
      "cell_type": "code",
      "metadata": {
        "trusted": true,
        "colab": {
          "base_uri": "https://localhost:8080/"
        },
        "id": "nl5hpFNPogWK",
        "outputId": "d57a850c-1fc3-41ec-cf52-7cbe2dde7a3e"
      },
      "source": [
        "articles['year'].min()"
      ],
      "execution_count": 5,
      "outputs": [
        {
          "output_type": "execute_result",
          "data": {
            "text/plain": [
              "2012.0"
            ]
          },
          "metadata": {
            "tags": []
          },
          "execution_count": 5
        }
      ]
    },
    {
      "cell_type": "code",
      "metadata": {
        "trusted": true,
        "colab": {
          "base_uri": "https://localhost:8080/"
        },
        "id": "Daujs7vOogWL",
        "outputId": "bfeae99b-328a-44b2-942c-c2a0bbf3d563"
      },
      "source": [
        "articles['year'].max()"
      ],
      "execution_count": 6,
      "outputs": [
        {
          "output_type": "execute_result",
          "data": {
            "text/plain": [
              "2017.0"
            ]
          },
          "metadata": {
            "tags": []
          },
          "execution_count": 6
        }
      ]
    },
    {
      "cell_type": "code",
      "metadata": {
        "trusted": true,
        "colab": {
          "base_uri": "https://localhost:8080/"
        },
        "id": "8jEjIsuCogWL",
        "outputId": "c83ec2a6-ce4f-42c2-d888-2b08d2a22099"
      },
      "source": [
        "articles['year'].value_counts()"
      ],
      "execution_count": 7,
      "outputs": [
        {
          "output_type": "execute_result",
          "data": {
            "text/plain": [
              "2016.0    2296\n",
              "2017.0    1239\n",
              "2015.0      73\n",
              "2013.0       4\n",
              "2014.0       3\n",
              "2012.0       2\n",
              "Name: year, dtype: int64"
            ]
          },
          "metadata": {
            "tags": []
          },
          "execution_count": 7
        }
      ]
    },
    {
      "cell_type": "code",
      "metadata": {
        "trusted": true,
        "id": "_m3OcllZogWM"
      },
      "source": [
        "def clean_text(article):\n",
        "    clean1 = re.sub(r'['+string.punctuation + '’—”'+']', \"\", article.lower())\n",
        "    return re.sub(r'\\W+', ' ', clean1)"
      ],
      "execution_count": 8,
      "outputs": []
    },
    {
      "cell_type": "code",
      "metadata": {
        "trusted": true,
        "id": "fY2GC-d4ogWM"
      },
      "source": [
        "import string\n",
        "import re\n",
        "\n",
        "articles['tokenized'] = articles['content'].astype(str).map(lambda x: clean_text(x))"
      ],
      "execution_count": 9,
      "outputs": []
    },
    {
      "cell_type": "code",
      "metadata": {
        "trusted": true,
        "colab": {
          "base_uri": "https://localhost:8080/"
        },
        "id": "E1OyuEiNogWM",
        "outputId": "b5fcb904-3147-4b53-9db1-f36ebf4ea852"
      },
      "source": [
        "articles['tokenized'].head()"
      ],
      "execution_count": 10,
      "outputs": [
        {
          "output_type": "execute_result",
          "data": {
            "text/plain": [
              "0    one was a crusty protestant firebrand from ant...\n",
              "1    well before the white house or u s intelligenc...\n",
              "2    storks is a kids movie that is not for kids di...\n",
              "3    opposing trump the ninth circuit court of appe...\n",
              "4     i want to receive updates from partners and s...\n",
              "Name: tokenized, dtype: object"
            ]
          },
          "metadata": {
            "tags": []
          },
          "execution_count": 10
        }
      ]
    },
    {
      "cell_type": "code",
      "metadata": {
        "trusted": true,
        "colab": {
          "base_uri": "https://localhost:8080/"
        },
        "id": "oz7QRAxjogWN",
        "outputId": "cb14ca5d-5207-40b7-85ad-6ba703d74fcc"
      },
      "source": [
        "articles['num_wds'] = articles['tokenized'].apply(lambda x: len(x.split()))\n",
        "articles['num_wds'].mean()"
      ],
      "execution_count": 11,
      "outputs": [
        {
          "output_type": "execute_result",
          "data": {
            "text/plain": [
              "780.1330666666667"
            ]
          },
          "metadata": {
            "tags": []
          },
          "execution_count": 11
        }
      ]
    },
    {
      "cell_type": "code",
      "metadata": {
        "trusted": true,
        "colab": {
          "base_uri": "https://localhost:8080/"
        },
        "id": "3u263T2iogWN",
        "outputId": "c37a6314-0280-48b7-b22f-aaaef6cc9484"
      },
      "source": [
        "articles['num_wds'].max()"
      ],
      "execution_count": 12,
      "outputs": [
        {
          "output_type": "execute_result",
          "data": {
            "text/plain": [
              "8929"
            ]
          },
          "metadata": {
            "tags": []
          },
          "execution_count": 12
        }
      ]
    },
    {
      "cell_type": "code",
      "metadata": {
        "trusted": true,
        "colab": {
          "base_uri": "https://localhost:8080/"
        },
        "id": "WZdSaJ_aogWN",
        "outputId": "4f62a33e-cb59-4566-b650-65e674ca8bd7"
      },
      "source": [
        "articles['num_wds'].min()"
      ],
      "execution_count": 13,
      "outputs": [
        {
          "output_type": "execute_result",
          "data": {
            "text/plain": [
              "0"
            ]
          },
          "metadata": {
            "tags": []
          },
          "execution_count": 13
        }
      ]
    },
    {
      "cell_type": "code",
      "metadata": {
        "trusted": true,
        "colab": {
          "base_uri": "https://localhost:8080/"
        },
        "id": "m9aHs3jqogWN",
        "outputId": "f80aa1da-5f0d-469b-dc95-55b7c8174b93"
      },
      "source": [
        "len(articles[articles['num_wds']==0])"
      ],
      "execution_count": 14,
      "outputs": [
        {
          "output_type": "execute_result",
          "data": {
            "text/plain": [
              "5"
            ]
          },
          "metadata": {
            "tags": []
          },
          "execution_count": 14
        }
      ]
    },
    {
      "cell_type": "code",
      "metadata": {
        "trusted": true,
        "colab": {
          "base_uri": "https://localhost:8080/"
        },
        "id": "Dz4z8iKEogWO",
        "outputId": "1daba040-1384-4c5c-b9a2-5c9e8b9232fe"
      },
      "source": [
        "articles = articles[articles['num_wds']>0]\n",
        "articles['num_wds'].mean()"
      ],
      "execution_count": 15,
      "outputs": [
        {
          "output_type": "execute_result",
          "data": {
            "text/plain": [
              "781.1746328437918"
            ]
          },
          "metadata": {
            "tags": []
          },
          "execution_count": 15
        }
      ]
    },
    {
      "cell_type": "code",
      "metadata": {
        "trusted": true,
        "colab": {
          "base_uri": "https://localhost:8080/"
        },
        "id": "VtIGki9QogWO",
        "outputId": "5085b2ce-03b2-46b4-f5ac-0d7f5eebcd9e"
      },
      "source": [
        "articles['num_wds'].min()"
      ],
      "execution_count": 16,
      "outputs": [
        {
          "output_type": "execute_result",
          "data": {
            "text/plain": [
              "1"
            ]
          },
          "metadata": {
            "tags": []
          },
          "execution_count": 16
        }
      ]
    },
    {
      "cell_type": "code",
      "metadata": {
        "trusted": true,
        "colab": {
          "base_uri": "https://localhost:8080/",
          "height": 661
        },
        "id": "rzpaFuJOogWO",
        "outputId": "c0638f59-93fc-4acf-91cd-e116d4aeb624"
      },
      "source": [
        "ax=articles['num_wds'].plot(kind='hist', bins=50, fontsize=14, figsize=(12,10))\n",
        "ax.set_title('Article Length in Words\\n', fontsize=20)\n",
        "ax.set_ylabel('Frequency', fontsize=18)\n",
        "ax.set_xlabel('Number of Words', fontsize=18);"
      ],
      "execution_count": 17,
      "outputs": [
        {
          "output_type": "display_data",
          "data": {
            "image/png": "[encoded data removed]",
            "text/plain": [
              "<Figure size 864x720 with 1 Axes>"
            ]
          },
          "metadata": {
            "tags": [],
            "needs_background": "light"
          }
        }
      ]
    },
    {
      "cell_type": "code",
      "metadata": {
        "trusted": true,
        "colab": {
          "base_uri": "https://localhost:8080/"
        },
        "id": "gqTZq4IBogWO",
        "outputId": "9b51189f-20d2-4956-9b26-2577a54f8726"
      },
      "source": [
        "articles['uniq_wds'] = articles['tokenized'].str.split().apply(lambda x: len(set(x)))\n",
        "articles['uniq_wds'].head()"
      ],
      "execution_count": 18,
      "outputs": [
        {
          "output_type": "execute_result",
          "data": {
            "text/plain": [
              "0    510\n",
              "1    956\n",
              "2    529\n",
              "3    554\n",
              "4    530\n",
              "Name: uniq_wds, dtype: int64"
            ]
          },
          "metadata": {
            "tags": []
          },
          "execution_count": 18
        }
      ]
    },
    {
      "cell_type": "code",
      "metadata": {
        "trusted": true,
        "colab": {
          "base_uri": "https://localhost:8080/"
        },
        "id": "Vgd8vqA7ogWP",
        "outputId": "420addfd-ecd7-4cb6-c0db-23ae4fabd42e"
      },
      "source": [
        "articles['uniq_wds'].mean()"
      ],
      "execution_count": 19,
      "outputs": [
        {
          "output_type": "execute_result",
          "data": {
            "text/plain": [
              "354.4926568758344"
            ]
          },
          "metadata": {
            "tags": []
          },
          "execution_count": 19
        }
      ]
    },
    {
      "cell_type": "code",
      "metadata": {
        "trusted": true,
        "colab": {
          "base_uri": "https://localhost:8080/"
        },
        "id": "aC8-3LtrogWP",
        "outputId": "e53bff3c-7233-40c7-8080-75aea981ebf9"
      },
      "source": [
        "articles['uniq_wds'].min()"
      ],
      "execution_count": 20,
      "outputs": [
        {
          "output_type": "execute_result",
          "data": {
            "text/plain": [
              "1"
            ]
          },
          "metadata": {
            "tags": []
          },
          "execution_count": 20
        }
      ]
    },
    {
      "cell_type": "code",
      "metadata": {
        "trusted": true,
        "colab": {
          "base_uri": "https://localhost:8080/"
        },
        "id": "9NP5UVjKogWP",
        "outputId": "871af1a4-3109-42c0-d513-8510d3d0b535"
      },
      "source": [
        "articles['uniq_wds'].max()"
      ],
      "execution_count": 21,
      "outputs": [
        {
          "output_type": "execute_result",
          "data": {
            "text/plain": [
              "2295"
            ]
          },
          "metadata": {
            "tags": []
          },
          "execution_count": 21
        }
      ]
    },
    {
      "cell_type": "code",
      "metadata": {
        "trusted": true,
        "colab": {
          "base_uri": "https://localhost:8080/",
          "height": 661
        },
        "id": "KUdKVhQGogWP",
        "outputId": "8ed67f4f-ca4b-40ab-fe8c-af9dbfa6d9b7"
      },
      "source": [
        "ax=articles['uniq_wds'].plot(kind='hist', bins=50, fontsize=14, figsize=(12,10))\n",
        "ax.set_title('Unique Words Per Article\\n', fontsize=20)\n",
        "ax.set_ylabel('Frequency', fontsize=18)\n",
        "ax.set_xlabel('Number of Unique Words', fontsize=18);"
      ],
      "execution_count": 22,
      "outputs": [
        {
          "output_type": "display_data",
          "data": {
            "image/png": "[encoded data removed]",
            "text/plain": [
              "<Figure size 864x720 with 1 Axes>"
            ]
          },
          "metadata": {
            "tags": [],
            "needs_background": "light"
          }
        }
      ]
    },
    {
      "cell_type": "code",
      "metadata": {
        "trusted": true,
        "colab": {
          "base_uri": "https://localhost:8080/",
          "height": 789
        },
        "id": "ZYLPh4u4ogWP",
        "outputId": "9a496be9-92fc-42b4-a567-293fe6c66ff0"
      },
      "source": [
        "import numpy as np\n",
        "\n",
        "art_grps = articles.groupby('publication')\n",
        "\n",
        "ax=art_grps['uniq_wds'].aggregate(np.mean).plot(kind='bar', fontsize=14, figsize=(12,10))\n",
        "ax.set_title('Mean Number of Unique Words per Article\\n', fontsize=20)\n",
        "ax.set_ylabel('Mean Number of Unique Words', fontsize=18)\n",
        "ax.set_xlabel('Publication', fontsize=18);"
      ],
      "execution_count": 23,
      "outputs": [
        {
          "output_type": "display_data",
          "data": {
            "image/png": "[encoded data removed]",
            "text/plain": [
              "<Figure size 864x720 with 1 Axes>"
            ]
          },
          "metadata": {
            "tags": [],
            "needs_background": "light"
          }
        }
      ]
    },
    {
      "cell_type": "code",
      "metadata": {
        "trusted": true,
        "id": "K73zOXcFogWQ"
      },
      "source": [
        "from collections import Counter\n",
        "\n",
        "wd_counts = Counter()\n",
        "for i, row in articles.iterrows():\n",
        "    wd_counts.update(row['tokenized'].split())"
      ],
      "execution_count": 24,
      "outputs": []
    },
    {
      "cell_type": "code",
      "metadata": {
        "trusted": true,
        "colab": {
          "base_uri": "https://localhost:8080/"
        },
        "id": "ymuBVBdXogWQ",
        "outputId": "a0d01417-13a5-4bd9-eb42-0820c495b81b"
      },
      "source": [
        "wd_counts.most_common(20)"
      ],
      "execution_count": 25,
      "outputs": [
        {
          "output_type": "execute_result",
          "data": {
            "text/plain": [
              "[('the', 169352),\n",
              " ('to', 83547),\n",
              " ('of', 75435),\n",
              " ('a', 72048),\n",
              " ('and', 71376),\n",
              " ('in', 59429),\n",
              " ('that', 40870),\n",
              " ('is', 28047),\n",
              " ('for', 27397),\n",
              " ('on', 25157),\n",
              " ('it', 20911),\n",
              " ('was', 20057),\n",
              " ('he', 19731),\n",
              " ('with', 19723),\n",
              " ('as', 18597),\n",
              " ('said', 15150),\n",
              " ('his', 14789),\n",
              " ('but', 14291),\n",
              " ('at', 14066),\n",
              " ('have', 13685)]"
            ]
          },
          "metadata": {
            "tags": []
          },
          "execution_count": 25
        }
      ]
    },
    {
      "cell_type": "code",
      "metadata": {
        "trusted": true,
        "colab": {
          "base_uri": "https://localhost:8080/"
        },
        "id": "c_cFn8MQogWQ",
        "outputId": "1dcb16ed-5a73-482b-8e9b-a26cf7d3fad9"
      },
      "source": [
        "import nltk\n",
        "nltk.download('stopwords')\n",
        "  \n",
        "from nltk.corpus import stopwords\n",
        "\n",
        "for sw in stopwords.words('english'):\n",
        "    del wd_counts[sw]"
      ],
      "execution_count": 26,
      "outputs": [
        {
          "output_type": "stream",
          "text": [
            "[nltk_data] Downloading package stopwords to /root/nltk_data...\n",
            "[nltk_data]   Package stopwords is already up-to-date!\n"
          ],
          "name": "stdout"
        }
      ]
    },
    {
      "cell_type": "code",
      "metadata": {
        "trusted": true,
        "colab": {
          "base_uri": "https://localhost:8080/"
        },
        "id": "M1GBNKcmogWQ",
        "outputId": "d3fd88ee-4b6c-4ec8-f750-39a9994fa78d"
      },
      "source": [
        "wd_counts.most_common(20)"
      ],
      "execution_count": 27,
      "outputs": [
        {
          "output_type": "execute_result",
          "data": {
            "text/plain": [
              "[('said', 15150),\n",
              " ('trump', 10480),\n",
              " ('would', 7540),\n",
              " ('one', 7447),\n",
              " ('people', 6967),\n",
              " ('new', 5619),\n",
              " ('like', 5335),\n",
              " ('also', 5003),\n",
              " ('president', 4392),\n",
              " ('time', 4056),\n",
              " ('could', 4035),\n",
              " ('first', 3693),\n",
              " ('even', 3621),\n",
              " ('years', 3544),\n",
              " ('two', 3472),\n",
              " ('many', 3373),\n",
              " ('us', 3325),\n",
              " ('state', 3224),\n",
              " ('clinton', 3186),\n",
              " ('states', 3101)]"
            ]
          },
          "metadata": {
            "tags": []
          },
          "execution_count": 27
        }
      ]
    },
    {
      "cell_type": "code",
      "metadata": {
        "trusted": true,
        "id": "Yk75P1kzogWQ"
      },
      "source": [
        "disj = re.compile(r'(chang\\w+\\W+(?:\\w+\\W+){1,5}?climate)|(climate\\W+(?:\\w+\\W+){1,5}?chang)')"
      ],
      "execution_count": 28,
      "outputs": []
    },
    {
      "cell_type": "code",
      "metadata": {
        "trusted": true,
        "colab": {
          "base_uri": "https://localhost:8080/"
        },
        "id": "ulyMUG5bogWR",
        "outputId": "0fb9f18e-5ea4-4cdb-833f-7d9394f3f2ec"
      },
      "source": [
        "disj.match('climate is changing')"
      ],
      "execution_count": 29,
      "outputs": [
        {
          "output_type": "execute_result",
          "data": {
            "text/plain": [
              "<re.Match object; span=(0, 16), match='climate is chang'>"
            ]
          },
          "metadata": {
            "tags": []
          },
          "execution_count": 29
        }
      ]
    },
    {
      "cell_type": "code",
      "metadata": {
        "trusted": true,
        "colab": {
          "base_uri": "https://localhost:8080/"
        },
        "id": "pOshzic8ogWR",
        "outputId": "895af625-de9c-43ac-a31b-2b2b91fa27e6"
      },
      "source": [
        "disj.match('change in extreme  climate')"
      ],
      "execution_count": 30,
      "outputs": [
        {
          "output_type": "execute_result",
          "data": {
            "text/plain": [
              "<re.Match object; span=(0, 26), match='change in extreme  climate'>"
            ]
          },
          "metadata": {
            "tags": []
          },
          "execution_count": 30
        }
      ]
    },
    {
      "cell_type": "code",
      "metadata": {
        "trusted": true,
        "id": "pW1vBpFiogWR"
      },
      "source": [
        "disj.match('nothing changing here except the weather')"
      ],
      "execution_count": 31,
      "outputs": []
    },
    {
      "cell_type": "code",
      "metadata": {
        "trusted": true,
        "id": "CvfnjK1CogWR"
      },
      "source": [
        "def find_cc_wds(content, cc_wds=['climate change','global warming', 'extreme weather', 'greenhouse gas'\n",
        "                                 'clean energy', 'clean tech', 'renewable energy']\n",
        "):\n",
        "    found = False\n",
        "    for w in cc_wds:\n",
        "        if w in content:\n",
        "            found = True\n",
        "            break\n",
        "\n",
        "    if not found:\n",
        "        disj = re.compile(r'(chang\\w+\\W+(?:\\w+\\W+){1,5}?climate) | (climate\\W+(?:\\w+\\W+){1,5}?chang)')\n",
        "        if disj.match(content):\n",
        "            found = True\n",
        "    return found"
      ],
      "execution_count": 32,
      "outputs": []
    },
    {
      "cell_type": "code",
      "metadata": {
        "trusted": true,
        "colab": {
          "base_uri": "https://localhost:8080/"
        },
        "id": "Nd8Hr9K4ogWR",
        "outputId": "14441ff0-463a-48cc-ffff-d00cc005482a"
      },
      "source": [
        "articles['cc_wds'] = articles['tokenized'].apply(find_cc_wds)\n",
        "articles['cc_wds'].head()"
      ],
      "execution_count": 33,
      "outputs": [
        {
          "output_type": "execute_result",
          "data": {
            "text/plain": [
              "0    False\n",
              "1    False\n",
              "2    False\n",
              "3    False\n",
              "4    False\n",
              "Name: cc_wds, dtype: bool"
            ]
          },
          "metadata": {
            "tags": []
          },
          "execution_count": 33
        }
      ]
    },
    {
      "cell_type": "code",
      "metadata": {
        "trusted": true,
        "colab": {
          "base_uri": "https://localhost:8080/"
        },
        "id": "WwN4OYBqogWR",
        "outputId": "176fb1b3-c11f-44cc-c56e-3a95162b65eb"
      },
      "source": [
        "articles['cc_wds'].sum() / len(articles)"
      ],
      "execution_count": 34,
      "outputs": [
        {
          "output_type": "execute_result",
          "data": {
            "text/plain": [
              "0.03124165554072096"
            ]
          },
          "metadata": {
            "tags": []
          },
          "execution_count": 34
        }
      ]
    },
    {
      "cell_type": "code",
      "metadata": {
        "trusted": true,
        "colab": {
          "base_uri": "https://localhost:8080/"
        },
        "id": "uBwZJaNeogWS",
        "outputId": "22b9cb75-6012-4303-d59f-32d261b60dae"
      },
      "source": [
        "art_grps['cc_wds'].sum()"
      ],
      "execution_count": 35,
      "outputs": [
        {
          "output_type": "execute_result",
          "data": {
            "text/plain": [
              "publication\n",
              "Atlantic               12\n",
              "Breitbart               5\n",
              "Business Insider        3\n",
              "Buzzfeed News           2\n",
              "CNN                     8\n",
              "Fox News                4\n",
              "Guardian               10\n",
              "NPR                     9\n",
              "National Review        10\n",
              "New York Post           2\n",
              "New York Times         10\n",
              "Reuters                13\n",
              "Talking Points Memo     4\n",
              "Vox                    20\n",
              "Washington Post         5\n",
              "Name: cc_wds, dtype: int64"
            ]
          },
          "metadata": {
            "tags": []
          },
          "execution_count": 35
        }
      ]
    },
    {
      "cell_type": "code",
      "metadata": {
        "trusted": true,
        "colab": {
          "base_uri": "https://localhost:8080/"
        },
        "id": "0oCFlukoogWS",
        "outputId": "6004534c-b25f-482f-bfc2-3dff84bb5b5c"
      },
      "source": [
        "art_grps['cc_wds'].count()"
      ],
      "execution_count": 36,
      "outputs": [
        {
          "output_type": "execute_result",
          "data": {
            "text/plain": [
              "publication\n",
              "Atlantic               250\n",
              "Breitbart              250\n",
              "Business Insider       246\n",
              "Buzzfeed News          250\n",
              "CNN                    250\n",
              "Fox News               250\n",
              "Guardian               250\n",
              "NPR                    250\n",
              "National Review        249\n",
              "New York Post          250\n",
              "New York Times         250\n",
              "Reuters                250\n",
              "Talking Points Memo    250\n",
              "Vox                    250\n",
              "Washington Post        250\n",
              "Name: cc_wds, dtype: int64"
            ]
          },
          "metadata": {
            "tags": []
          },
          "execution_count": 36
        }
      ]
    },
    {
      "cell_type": "code",
      "metadata": {
        "trusted": true,
        "colab": {
          "base_uri": "https://localhost:8080/"
        },
        "id": "wJtM4nwEogWS",
        "outputId": "e3ea6336-9383-432e-b548-7aa287388082"
      },
      "source": [
        "proportions = art_grps['cc_wds'].sum() / art_grps['cc_wds'].count()\n",
        "proportions.sort_values(ascending=True)\n",
        "proportions"
      ],
      "execution_count": 37,
      "outputs": [
        {
          "output_type": "execute_result",
          "data": {
            "text/plain": [
              "publication\n",
              "Atlantic               0.048000\n",
              "Breitbart              0.020000\n",
              "Business Insider       0.012195\n",
              "Buzzfeed News          0.008000\n",
              "CNN                    0.032000\n",
              "Fox News               0.016000\n",
              "Guardian               0.040000\n",
              "NPR                    0.036000\n",
              "National Review        0.040161\n",
              "New York Post          0.008000\n",
              "New York Times         0.040000\n",
              "Reuters                0.052000\n",
              "Talking Points Memo    0.016000\n",
              "Vox                    0.080000\n",
              "Washington Post        0.020000\n",
              "Name: cc_wds, dtype: float64"
            ]
          },
          "metadata": {
            "tags": []
          },
          "execution_count": 37
        }
      ]
    },
    {
      "cell_type": "code",
      "metadata": {
        "trusted": true,
        "colab": {
          "base_uri": "https://localhost:8080/",
          "height": 789
        },
        "id": "qD_vwvaKogWS",
        "outputId": "d4477eb7-651a-443e-f40c-c8aebe278f7b"
      },
      "source": [
        "ax=proportions.sort_values(ascending=False).plot(kind='bar', fontsize=14, figsize=(12,10))\n",
        "ax.set_title('Mean Proportion of Climate Change Related Articles per Publication (Sorted)\\n', fontsize=20)\n",
        "ax.set_ylabel('Mean Proportion', fontsize=18)\n",
        "ax.set_xlabel('Publication', fontsize=18);"
      ],
      "execution_count": 38,
      "outputs": [
        {
          "output_type": "display_data",
          "data": {
            "image/png": "[encoded data removed]",
            "text/plain": [
              "<Figure size 864x720 with 1 Axes>"
            ]
          },
          "metadata": {
            "tags": [],
            "needs_background": "light"
          }
        }
      ]
    },
    {
      "cell_type": "code",
      "metadata": {
        "trusted": true,
        "colab": {
          "base_uri": "https://localhost:8080/",
          "height": 195
        },
        "id": "Nsop7zx4ogWS",
        "outputId": "85a1880d-fbfb-42be-929c-e5e1a3e084d7"
      },
      "source": [
        "#liberal, conservative, and center\n",
        "bias_assigns = {'Atlantic': 'left', 'Breitbart': 'right', 'Business Insider': 'left', 'Buzzfeed News': 'left', 'CNN': 'left', 'Fox News': 'right',\n",
        "                'Guardian': 'left', 'National Review': 'right', 'New York Post': 'right', 'New York Times': 'left',\n",
        "                'NPR': 'left', 'Reuters': 'center', 'Talking Points Memo': 'left', 'Washington Post': 'left', 'Vox': 'left'}\n",
        "articles['bias'] = articles['publication'].apply(lambda x: bias_assigns[x])\n",
        "\n",
        "articles.head()"
      ],
      "execution_count": 39,
      "outputs": [
        {
          "output_type": "execute_result",
          "data": {
            "text/html": [
              "<div>\n",
              "<style scoped>\n",
              "    .dataframe tbody tr th:only-of-type {\n",
              "        vertical-align: middle;\n",
              "    }\n",
              "\n",
              "    .dataframe tbody tr th {\n",
              "        vertical-align: top;\n",
              "    }\n",
              "\n",
              "    .dataframe thead th {\n",
              "        text-align: right;\n",
              "    }\n",
              "</style>\n",
              "<table border=\"1\" class=\"dataframe\">\n",
              "  <thead>\n",
              "    <tr style=\"text-align: right;\">\n",
              "      <th></th>\n",
              "      <th>title</th>\n",
              "      <th>publication</th>\n",
              "      <th>year</th>\n",
              "      <th>content</th>\n",
              "      <th>tokenized</th>\n",
              "      <th>num_wds</th>\n",
              "      <th>uniq_wds</th>\n",
              "      <th>cc_wds</th>\n",
              "      <th>bias</th>\n",
              "    </tr>\n",
              "  </thead>\n",
              "  <tbody>\n",
              "    <tr>\n",
              "      <th>0</th>\n",
              "      <td>The Strange Friendship of Martin McGuinness an...</td>\n",
              "      <td>Atlantic</td>\n",
              "      <td>2017.0</td>\n",
              "      <td>One was a crusty Protestant firebrand from Ant...</td>\n",
              "      <td>one was a crusty protestant firebrand from ant...</td>\n",
              "      <td>1173</td>\n",
              "      <td>510</td>\n",
              "      <td>False</td>\n",
              "      <td>left</td>\n",
              "    </tr>\n",
              "    <tr>\n",
              "      <th>1</th>\n",
              "      <td>‘What the Russians Did Was Utterly Unprecedented’</td>\n",
              "      <td>Atlantic</td>\n",
              "      <td>2016.0</td>\n",
              "      <td>Well before the White House or U. S. intellige...</td>\n",
              "      <td>well before the white house or u s intelligenc...</td>\n",
              "      <td>3789</td>\n",
              "      <td>956</td>\n",
              "      <td>False</td>\n",
              "      <td>left</td>\n",
              "    </tr>\n",
              "    <tr>\n",
              "      <th>2</th>\n",
              "      <td>The Boss Baby Missed the Memo</td>\n",
              "      <td>Atlantic</td>\n",
              "      <td>2017.0</td>\n",
              "      <td>Storks Is a Kids’ Movie That Is Not for Kids, ...</td>\n",
              "      <td>storks is a kids movie that is not for kids di...</td>\n",
              "      <td>1344</td>\n",
              "      <td>529</td>\n",
              "      <td>False</td>\n",
              "      <td>left</td>\n",
              "    </tr>\n",
              "    <tr>\n",
              "      <th>3</th>\n",
              "      <td>The Atlantic Daily: Clashing With Patriots</td>\n",
              "      <td>Atlantic</td>\n",
              "      <td>2017.0</td>\n",
              "      <td>Opposing Trump: The Ninth Circuit Court of App...</td>\n",
              "      <td>opposing trump the ninth circuit court of appe...</td>\n",
              "      <td>991</td>\n",
              "      <td>554</td>\n",
              "      <td>False</td>\n",
              "      <td>left</td>\n",
              "    </tr>\n",
              "    <tr>\n",
              "      <th>4</th>\n",
              "      <td>Where Are All the Principals of Color?</td>\n",
              "      <td>Atlantic</td>\n",
              "      <td>2016.0</td>\n",
              "      <td>, I want to receive updates from partners and ...</td>\n",
              "      <td>i want to receive updates from partners and s...</td>\n",
              "      <td>1254</td>\n",
              "      <td>530</td>\n",
              "      <td>False</td>\n",
              "      <td>left</td>\n",
              "    </tr>\n",
              "  </tbody>\n",
              "</table>\n",
              "</div>"
            ],
            "text/plain": [
              "                                               title publication  ...  cc_wds  bias\n",
              "0  The Strange Friendship of Martin McGuinness an...    Atlantic  ...   False  left\n",
              "1  ‘What the Russians Did Was Utterly Unprecedented’    Atlantic  ...   False  left\n",
              "2                      The Boss Baby Missed the Memo    Atlantic  ...   False  left\n",
              "3         The Atlantic Daily: Clashing With Patriots    Atlantic  ...   False  left\n",
              "4             Where Are All the Principals of Color?    Atlantic  ...   False  left\n",
              "\n",
              "[5 rows x 9 columns]"
            ]
          },
          "metadata": {
            "tags": []
          },
          "execution_count": 39
        }
      ]
    },
    {
      "cell_type": "code",
      "metadata": {
        "trusted": true,
        "id": "AMIK269fogWT"
      },
      "source": [
        "bias_groups = articles.groupby('bias')\n",
        "bias_proportions = bias_groups['cc_wds'].sum() / bias_groups['cc_wds'].count()"
      ],
      "execution_count": 40,
      "outputs": []
    },
    {
      "cell_type": "code",
      "metadata": {
        "trusted": true,
        "colab": {
          "base_uri": "https://localhost:8080/"
        },
        "id": "2pjLkw8togWT",
        "outputId": "e13176a7-3d22-4258-cde2-097c819b0b22"
      },
      "source": [
        "bias_groups['cc_wds'].count()"
      ],
      "execution_count": 41,
      "outputs": [
        {
          "output_type": "execute_result",
          "data": {
            "text/plain": [
              "bias\n",
              "center     250\n",
              "left      2496\n",
              "right      999\n",
              "Name: cc_wds, dtype: int64"
            ]
          },
          "metadata": {
            "tags": []
          },
          "execution_count": 41
        }
      ]
    },
    {
      "cell_type": "code",
      "metadata": {
        "trusted": true,
        "colab": {
          "base_uri": "https://localhost:8080/",
          "height": 692
        },
        "id": "0qofTre6ogWT",
        "outputId": "c9ebb9f2-47d6-46f5-cc62-916542970431"
      },
      "source": [
        "ax=bias_proportions.plot(kind='bar', fontsize=14, figsize=(12,10))\n",
        "ax.set_title('Proportion of climate change articles by Political Bias\\n', fontsize=20)\n",
        "ax.set_xlabel('Bias', fontsize=18)\n",
        "ax.set_ylabel('Proportion', fontsize=18);"
      ],
      "execution_count": 42,
      "outputs": [
        {
          "output_type": "display_data",
          "data": {
            "image/png": "[encoded data removed]",
            "text/plain": [
              "<Figure size 864x720 with 1 Axes>"
            ]
          },
          "metadata": {
            "tags": [],
            "needs_background": "light"
          }
        }
      ]
    }
  ]
}